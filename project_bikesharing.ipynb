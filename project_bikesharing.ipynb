{
 "cells": [
  {
   "cell_type": "code",
   "execution_count": 60,
   "metadata": {
    "collapsed": false
   },
   "outputs": [],
   "source": [
    "# This tells matplotlib not to try opening a new window for each plot.\n",
    "%matplotlib inline\n",
    "\n",
    "# General libraries.\n",
    "import numpy as np\n",
    "import pandas as pd\n",
    "import matplotlib.pyplot as plt\n",
    "import seaborn as sns\n",
    "\n",
    "# SK-learn libraries for learning.\n",
    "from sklearn.pipeline import Pipeline\n",
    "from sklearn.neighbors import KNeighborsRegressor\n",
    "from sklearn.tree import DecisionTreeRegressor\n",
    "from sklearn.ensemble import RandomForestRegressor\n",
    "from sklearn.ensemble import AdaBoostRegressor\n",
    "\n",
    "from sklearn.linear_model import LinearRegression\n",
    "from sklearn.linear_model import Ridge\n",
    "from sklearn.linear_model import Lasso\n",
    "\n",
    "from sklearn.grid_search import GridSearchCV\n",
    "from sklearn.preprocessing import StandardScaler\n",
    "\n",
    "# SK-learn libraries for evaluation.\n",
    "from sklearn.metrics import make_scorer\n",
    "\n",
    "# Set randomizer seed\n",
    "np.random.seed(0)"
   ]
  },
  {
   "cell_type": "code",
   "execution_count": 2,
   "metadata": {
    "collapsed": false
   },
   "outputs": [
    {
     "name": "stdout",
     "output_type": "stream",
     "text": [
      "Feature names: \n",
      "['year' 'dayofyear' 'hour' 'season' 'holiday' 'workingday' 'weather' 'temp'\n",
      " 'atemp' 'humidity' 'windspeed']\n",
      "\n",
      "First 5 examples: \n",
      "             datetime  year  dayofyear  hour  season  holiday  workingday  \\\n",
      "0 2011-01-01 00:00:00  2011          1     0       1        0           0   \n",
      "1 2011-01-01 01:00:00  2011          1     1       1        0           0   \n",
      "2 2011-01-01 02:00:00  2011          1     2       1        0           0   \n",
      "3 2011-01-01 03:00:00  2011          1     3       1        0           0   \n",
      "4 2011-01-01 04:00:00  2011          1     4       1        0           0   \n",
      "\n",
      "   weather  temp   atemp  humidity  windspeed  casual  registered  count  \n",
      "0        1  9.84  14.395        81     6.0032       3          13     16  \n",
      "1        1  9.02  13.635        80     6.0032       8          32     40  \n",
      "2        1  9.02  13.635        80     6.0032       5          27     32  \n",
      "3        1  9.84  14.395        75     6.0032       3          10     13  \n",
      "4        1  9.84  14.395        75     6.0032       0           1      1  \n",
      "All train data: (10886, 11)\n",
      "Train data: (9500, 11)\n",
      "Dev data: (1386, 11)\n",
      "Test data: (6493, 11)\n"
     ]
    }
   ],
   "source": [
    "## Prepare data for model fitting\n",
    "\n",
    "# Train and test sets on local machines\n",
    "file_paths = ['~/datasets/bike/train.csv', '~/datasets/bike/test.csv']\n",
    "\n",
    "# Define function to clean train and test data\n",
    "def clean_data(path):\n",
    "    \"\"\"\n",
    "    Input: path of csv files (train or test)\n",
    "    Output: cleaned dataframe\n",
    "    \"\"\"\n",
    "    df = pd.read_csv(path, parse_dates=[0])\n",
    "    # Split datetime up into 3 components (year, dayofyear, hour)\n",
    "    df.insert(1, \"year\", df[\"datetime\"].dt.year)\n",
    "    df.insert(2, \"dayofyear\", df[\"datetime\"].dt.dayofyear)\n",
    "    df.insert(3, \"hour\", df[\"datetime\"].dt.hour)    \n",
    "    # Fill in missing values in humidity and windspeed\n",
    "    df.loc[df[\"humidity\"]==0, \"humidity\"] = np.nan\n",
    "    df.loc[df[\"windspeed\"]==0, \"windspeed\"] = np.nan    \n",
    "    # Fill forward first, then, backwards (for first few missing values)\n",
    "    df = df.fillna(method=\"ffill\").fillna(method=\"bfill\")\n",
    "    return df\n",
    "\n",
    "# Clean train and test csv files\n",
    "df_train = clean_data(file_paths[0])\n",
    "df_test = clean_data(file_paths[1])\n",
    "\n",
    "# Get train feature names (excluding datetime, casual, registered, count)\n",
    "print (\"Feature names: \")\n",
    "print (df_train.columns.values[1:-3])\n",
    "# Print out first 5 training examples\n",
    "print (\"\\nFirst 5 examples: \")\n",
    "print (df_train.head())\n",
    "\n",
    "# Extract numerical features\n",
    "num_data = df_train.iloc[:, 1:].values\n",
    "X, Y = num_data[:, :-3], num_data[:, -1]\n",
    "test_data = df_test.iloc[:, 1:].values\n",
    "\n",
    "# Split all training data into train set and dev set (about 7:1 ratio)\n",
    "shuffle = np.random.permutation(np.arange(X.shape[0]))\n",
    "X, Y = X[shuffle], Y[shuffle]\n",
    "print (\"All train data: {}\".format(X.shape))\n",
    "train_data, train_labels = X[:9500], Y[:9500]\n",
    "dev_data, dev_labels = X[9500:], Y[9500:]\n",
    "\n",
    "# Array sizes\n",
    "print (\"Train data: {}\".format(train_data.shape))\n",
    "print (\"Dev data: {}\".format(dev_data.shape))\n",
    "print (\"Test data: {}\".format(test_data.shape))"
   ]
  },
  {
   "cell_type": "code",
   "execution_count": 3,
   "metadata": {
    "collapsed": false
   },
   "outputs": [
    {
     "data": {
      "text/plain": [
       "<matplotlib.axes._subplots.AxesSubplot at 0x10af38b50>"
      ]
     },
     "execution_count": 3,
     "metadata": {},
     "output_type": "execute_result"
    },
    {
     "data": {
      "image/png": "[encoded data removed]",
      "text/plain": [
       "<matplotlib.figure.Figure at 0x109d24990>"
      ]
     },
     "metadata": {},
     "output_type": "display_data"
    }
   ],
   "source": [
    "# Histograms for cetain variables\n",
    "plt.figure(figsize=(10,10))\n",
    "plt.subplot(321)\n",
    "df_train[\"weather\"].hist()\n",
    "plt.subplot(322)\n",
    "df_train[\"temp\"].hist(bins=20)\n",
    "plt.subplot(323)\n",
    "df_train[\"atemp\"].hist(bins=20)\n",
    "plt.subplot(324)\n",
    "df_train[\"humidity\"].hist(bins=20) # missing values\n",
    "plt.subplot(325)\n",
    "df_train[\"windspeed\"].hist(bins=20) # missing values\n",
    "plt.subplot(326)\n",
    "df_train[\"count\"].hist(bins=20)"
   ]
  },
  {
   "cell_type": "code",
   "execution_count": 31,
   "metadata": {
    "collapsed": false
   },
   "outputs": [],
   "source": [
    "# Evaluation: Root Mean Squared Logarithmic Error (RMSLE)\n",
    "def RMSLE(actual, predicted):\n",
    "    \"\"\"\n",
    "    Inputs: actual counts, predicted counts\n",
    "    Outputs: Root Mean Squared Logarithmic Error\n",
    "    \"\"\"\n",
    "    return np.sqrt(np.mean(np.square(np.log(predicted+1) - np.log(actual+1))))\n",
    "\n",
    "# Make a scoring object for GridSearch to use\n",
    "RMSLE_scorer = make_scorer(RMSLE, greater_is_better=False)"
   ]
  },
  {
   "cell_type": "code",
   "execution_count": 35,
   "metadata": {
    "collapsed": false
   },
   "outputs": [
    {
     "name": "stdout",
     "output_type": "stream",
     "text": [
      "RMSLE(baseline): 1.5629246036\n",
      "RMSLE: 1.28782961803\n",
      "R-square on dev: 0.410914367472\n"
     ]
    }
   ],
   "source": [
    "# Linear Regression\n",
    "# Fit a simple regression model using all training data\n",
    "lr_model = LinearRegression()\n",
    "lr_model.fit(train_data, train_labels)\n",
    "preds = lr_model.predict(dev_data)\n",
    "\n",
    "# Compute baseline score (using the mean as the base model)\n",
    "base_preds = np.repeat(np.mean(train_labels), dev_labels.shape)\n",
    "print (\"RMSLE(baseline): {}\".format(RMSLE(dev_labels, base_preds)))\n",
    "\n",
    "# Now try linear regression model\n",
    "# Predictions cannot be negative, convert negative predictions to zero\n",
    "preds[preds<0] = 0\n",
    "print (\"RMSLE: {}\".format(RMSLE(dev_labels, preds)))\n",
    "\n",
    "# R2 for dev set\n",
    "print (\"R-square on dev: {}\".format(metrics.r2_score(dev_labels, preds)))"
   ]
  },
  {
   "cell_type": "code",
   "execution_count": 47,
   "metadata": {
    "collapsed": false,
    "scrolled": true
   },
   "outputs": [
    {
     "name": "stdout",
     "output_type": "stream",
     "text": [
      "RMSLE: 1.23488945278\n",
      "R-square on dev: 0.396515305504\n"
     ]
    }
   ],
   "source": [
    "# Linear Regression with L2 Regularization\n",
    "# Fit ridge regression model\n",
    "lr_ridge_model = Ridge(alpha=2400)\n",
    "lr_ridge_model.fit(train_data, train_labels)\n",
    "preds = lr_ridge_model.predict(dev_data)\n",
    "\n",
    "# Predictions cannot be negative, convert negative predictions to zero\n",
    "preds[preds<0] = 0\n",
    "print (\"RMSLE: {}\".format(RMSLE(dev_labels, preds)))\n",
    "\n",
    "# R2 for dev set\n",
    "print (\"R-square on dev: {}\".format(metrics.r2_score(dev_labels, preds)))"
   ]
  },
  {
   "cell_type": "code",
   "execution_count": 37,
   "metadata": {
    "collapsed": false
   },
   "outputs": [
    {
     "name": "stdout",
     "output_type": "stream",
     "text": [
      "RMSLE: 1.24022166193\n",
      "R-square on dev: 0.400560310343\n"
     ]
    }
   ],
   "source": [
    "# Linear Regression with L1 Regularization\n",
    "# Fit lasso regression model\n",
    "lr_lasso_model = Lasso(alpha=8)\n",
    "lr_lasso_model.fit(train_data, train_labels)\n",
    "preds = lr_lasso_model.predict(dev_data)\n",
    "\n",
    "# Predictions cannot be negative, convert negative predictions to zero\n",
    "preds[preds<0] = 0\n",
    "print (\"RMSLE: {}\".format(RMSLE(dev_labels, preds)))\n",
    "\n",
    "# R2 for dev set\n",
    "print (\"R-square on dev: {}\".format(metrics.r2_score(dev_labels, preds)))"
   ]
  },
  {
   "cell_type": "code",
   "execution_count": 5,
   "metadata": {
    "collapsed": true
   },
   "outputs": [],
   "source": [
    "## Feature Scaling\n",
    "scaler = StandardScaler()\n",
    "train_data_scaled = scaler.fit_transform(train_data)\n",
    "dev_data_scaled = scaler.transform(dev_data)"
   ]
  },
  {
   "cell_type": "code",
   "execution_count": 79,
   "metadata": {
    "collapsed": false
   },
   "outputs": [
    {
     "name": "stdout",
     "output_type": "stream",
     "text": [
      "RMSLE: 0.713312406042\n",
      "R-square on dev: 0.680080041734\n"
     ]
    }
   ],
   "source": [
    "## kNN Regression\n",
    "k = 2\n",
    "knn_model = KNeighborsRegressor(n_neighbors = k, weights = \"distance\")\n",
    "knn_model.fit(train_data_scaled, train_labels)\n",
    "knn_preds = knn_model.predict(dev_data_scaled)\n",
    "\n",
    "# Predictions cannot be negative, convert negative predictions to zero\n",
    "knn_preds[knn_preds<0] = 0\n",
    "print (\"RMSLE: {}\".format(RMSLE(dev_labels, knn_preds)))\n",
    "\n",
    "# R2 for dev set\n",
    "print (\"R-square on dev: {}\".format(metrics.r2_score(dev_labels, knn_preds)))"
   ]
  },
  {
   "cell_type": "code",
   "execution_count": 39,
   "metadata": {
    "collapsed": false
   },
   "outputs": [
    {
     "name": "stdout",
     "output_type": "stream",
     "text": [
      "RMSLE: 0.370972433814\n",
      "R-square on dev: 0.917695434478\n",
      "[ 0.099  0.102  0.616  0.     0.001  0.109  0.011  0.014  0.024  0.022\n",
      "  0.001]\n"
     ]
    }
   ],
   "source": [
    "## Decision Trees\n",
    "# Ensure consistency of results\n",
    "np.random.seed(0)\n",
    "\n",
    "# Fit decision tree regressor\n",
    "dt_model = DecisionTreeRegressor(max_depth=10)\n",
    "dt_model.fit(train_data_scaled, train_labels)\n",
    "dt_preds = dt_model.predict(dev_data_scaled)\n",
    "\n",
    "# RMSLE\n",
    "print (\"RMSLE: {}\".format(RMSLE(dev_labels, dt_preds)))\n",
    "\n",
    "# R2 for dev set\n",
    "print (\"R-square on dev: {}\".format(metrics.r2_score(dev_labels, dt_preds)))\n",
    "print (np.round(dt_model.feature_importances_,3))"
   ]
  },
  {
   "cell_type": "code",
   "execution_count": 38,
   "metadata": {
    "collapsed": false
   },
   "outputs": [
    {
     "name": "stdout",
     "output_type": "stream",
     "text": [
      "-0.434502158435\n",
      "{'max_depth': 9}\n"
     ]
    }
   ],
   "source": [
    "# Decision Tree Grid Search\n",
    "dt_params = {\"max_depth\": np.arange(1,30)}\n",
    "dt_grid = GridSearchCV(DecisionTreeRegressor(), dt_params, scoring=RMSLE_scorer)\n",
    "dt_grid.fit(train_data_scaled, train_labels)\n",
    "\n",
    "print (dt_grid.best_score_)\n",
    "print (dt_grid.best_params_)"
   ]
  },
  {
   "cell_type": "code",
   "execution_count": 51,
   "metadata": {
    "collapsed": false
   },
   "outputs": [
    {
     "data": {
      "image/png": "[encoded data removed]",
      "text/plain": [
       "<matplotlib.figure.Figure at 0x1317104d0>"
      ]
     },
     "metadata": {},
     "output_type": "display_data"
    }
   ],
   "source": [
    "plt.figure(figsize=(16,8))\n",
    "ax = sns.barplot(x=df_train.columns.values[1:-3], y=dt_model.feature_importances_)\n",
    "title = plt.title(\"Feature Importances\")\n",
    "ylabel = plt.ylabel(\"Gini Importance\")"
   ]
  },
  {
   "cell_type": "code",
   "execution_count": 138,
   "metadata": {
    "collapsed": false
   },
   "outputs": [
    {
     "name": "stdout",
     "output_type": "stream",
     "text": [
      "RMSLE: 0.337629845353\n",
      "R-square on dev: 0.94813557973\n",
      "[ 0.09   0.095  0.583  0.002  0.003  0.097  0.015  0.048  0.027  0.031\n",
      "  0.01 ]\n"
     ]
    }
   ],
   "source": [
    "## Random Forest Regressor\n",
    "# Ensure consistency of results\n",
    "np.random.seed(0)\n",
    "\n",
    "# Fit random forest regressor\n",
    "rf_model = RandomForestRegressor(max_depth=20)\n",
    "rf_model.fit(train_data_scaled, train_labels)\n",
    "rf_preds = rf_model.predict(dev_data_scaled)\n",
    "\n",
    "# RMSLE\n",
    "print (\"RMSLE: {}\".format(RMSLE(dev_labels, rf_preds)))\n",
    "\n",
    "# R2 for dev set\n",
    "print (\"R-square on dev: {}\".format(metrics.r2_score(dev_labels, rf_preds)))\n",
    "print (np.round(rf_model.feature_importances_,3))"
   ]
  },
  {
   "cell_type": "code",
   "execution_count": 84,
   "metadata": {
    "collapsed": false
   },
   "outputs": [
    {
     "name": "stdout",
     "output_type": "stream",
     "text": [
      "RMSLE: 0.787777073209\n",
      "R-square on dev: 0.569290213077\n",
      "[ 0.161  0.048  0.681  0.     0.     0.01   0.     0.041  0.059  0.     0.   ]\n"
     ]
    }
   ],
   "source": [
    "## Adaboost with Decision Tree Regressor\n",
    "# Ensure consistency of results\n",
    "np.random.seed(0)\n",
    "\n",
    "# Fit Adaboost with decision tree regressor\n",
    "ada_model = AdaBoostRegressor(n_estimators=5)\n",
    "ada_model.fit(train_data_scaled, train_labels)\n",
    "ada_preds = ada_model.predict(dev_data_scaled)\n",
    "\n",
    "# RMSLE\n",
    "print (\"RMSLE: {}\".format(RMSLE(dev_labels, ada_preds)))\n",
    "\n",
    "# R2 for dev set\n",
    "print (\"R-square on dev: {}\".format(metrics.r2_score(dev_labels, ada_preds)))\n",
    "print (np.round(ada_model.feature_importances_,3))"
   ]
  },
  {
   "cell_type": "code",
   "execution_count": 40,
   "metadata": {
    "collapsed": false
   },
   "outputs": [],
   "source": [
    "# Write results in Kaggle format\n",
    "# Predict with ALL training data (train set + dev set)\n",
    "lr_model = LinearRegression()\n",
    "lr_model.fit(X, Y)\n",
    "kaggle_preds = lr_model.predict(test_data)\n",
    "kaggle_preds[kaggle_preds<0] = 0\n",
    "\n",
    "# Write to csv\n",
    "out_path = '/Users/InfernoIX/datasets/bike/kaggle_submission.csv'\n",
    "df_submission = pd.DataFrame({\"datetime\": df_test[\"datetime\"], \"count\": kaggle_preds}, columns = [\"datetime\", \"count\"])\n",
    "df_submission.to_csv(out_path, index=False)"
   ]
  }
 ],
 "metadata": {
  "kernelspec": {
   "display_name": "Python 2",
   "language": "python",
   "name": "python2"
  },
  "language_info": {
   "codemirror_mode": {
    "name": "ipython",
    "version": 2
   },
   "file_extension": ".py",
   "mimetype": "text/x-python",
   "name": "python",
   "nbconvert_exporter": "python",
   "pygments_lexer": "ipython2",
   "version": "2.7.10"
  }
 },
 "nbformat": 4,
 "nbformat_minor": 0
}

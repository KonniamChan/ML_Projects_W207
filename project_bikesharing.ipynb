{
 "cells": [
  {
   "cell_type": "code",
   "execution_count": 2,
   "metadata": {
    "collapsed": true
   },
   "outputs": [],
   "source": [
    "# This tells matplotlib not to try opening a new window for each plot.\n",
    "%matplotlib inline\n",
    "\n",
    "# General libraries.\n",
    "import numpy as np\n",
    "import pandas as pd\n",
    "import matplotlib.pyplot as plt\n",
    "\n",
    "# SK-learn libraries for learning.\n",
    "from sklearn.pipeline import Pipeline\n",
    "from sklearn.neighbors import KNeighborsClassifier\n",
    "from sklearn.linear_model import LinearRegression\n",
    "from sklearn.grid_search import GridSearchCV\n",
    "from sklearn.preprocessing import StandardScaler\n",
    "\n",
    "# SK-learn libraries for evaluation.\n",
    "from sklearn.metrics import confusion_matrix\n",
    "from sklearn import metrics\n",
    "from sklearn.metrics import classification_report\n",
    "\n",
    "# Set randomizer seed\n",
    "np.random.seed(0)"
   ]
  },
  {
   "cell_type": "code",
   "execution_count": 3,
   "metadata": {
    "collapsed": false
   },
   "outputs": [
    {
     "name": "stdout",
     "output_type": "stream",
     "text": [
      "Feature names: \n",
      "['season' 'holiday' 'workingday' 'weather' 'temp' 'atemp' 'humidity'\n",
      " 'windspeed']\n",
      "\n",
      "First 5 examples: \n",
      "[[  1.      0.      0.      1.      9.84   14.395  81.      0.   ]\n",
      " [  1.      0.      0.      1.      9.02   13.635  80.      0.   ]\n",
      " [  1.      0.      0.      1.      9.02   13.635  80.      0.   ]\n",
      " [  1.      0.      0.      1.      9.84   14.395  75.      0.   ]\n",
      " [  1.      0.      0.      1.      9.84   14.395  75.      0.   ]]\n",
      "All train data: (10886, 8)\n",
      "Train data: (9500, 8)\n",
      "Dev data: (1386, 8)\n",
      "Test data: (6493, 8)\n"
     ]
    }
   ],
   "source": [
    "# Load train data\n",
    "train_path = '~/datasets/bike/train.csv' # path on local machine\n",
    "df_train = pd.read_csv(train_path)\n",
    "# Extract datetime feature\n",
    "all_train_dates = pd.to_datetime(df_train[\"datetime\"])\n",
    "# Get feature names (excluding datetime, casual, registered, count)\n",
    "feature_names_train = df_train.columns.values[1:-3]\n",
    "print (\"Feature names: \")\n",
    "print (feature_names_train)\n",
    "# Extract numerical features\n",
    "num_data = df_train.iloc[:,1:].values\n",
    "X, Y = num_data[:, :-3], num_data[:, -1]\n",
    "# Print out first 5 training examples\n",
    "print (\"\\nFirst 5 examples: \")\n",
    "print (X[0:5])\n",
    "\n",
    "# Load and process test data (repeat above)\n",
    "test_path = '~/datasets/bike/test.csv' # path on local machine\n",
    "df_test = pd.read_csv(test_path)\n",
    "test_dates = pd.to_datetime(df_test[\"datetime\"])\n",
    "feature_names_test = df_test.columns.values[1:]\n",
    "test_data = df_test.iloc[:,1:].values\n",
    "\n",
    "# Split all training data into train set and dev set (about 7:1 ratio)\n",
    "shuffle = np.random.permutation(np.arange(X.shape[0]))\n",
    "X, Y, all_train_dates = X[shuffle], Y[shuffle], all_train_dates[shuffle]\n",
    "print (\"All train data: {}\".format(X.shape))\n",
    "train_data, train_labels, train_dates = X[:9500], Y[:9500], all_train_dates[:9500]\n",
    "dev_data, dev_labels, dev_dates = X[9500:], Y[9500:], all_train_dates[9500:]\n",
    "\n",
    "# Array sizes\n",
    "print (\"Train data: {}\".format(train_data.shape))\n",
    "print (\"Dev data: {}\".format(dev_data.shape))\n",
    "print (\"Test data: {}\".format(test_data.shape))\n",
    "# train_dates.dt.day.values"
   ]
  },
  {
   "cell_type": "code",
   "execution_count": 4,
   "metadata": {
    "collapsed": false
   },
   "outputs": [],
   "source": [
    "# Evaluation: Root Mean Squared Logarithmic Error (RMSLE)\n",
    "def RMSLE(actual, predicted):\n",
    "    \"\"\"\n",
    "    Inputs: actual counts, predicted counts\n",
    "    Outputs: Root Mean Squared Logarithmic Error\n",
    "    \"\"\"\n",
    "    return np.sqrt(np.mean(np.square(np.log(predicted+1) - np.log(actual+1))))"
   ]
  },
  {
   "cell_type": "code",
   "execution_count": 5,
   "metadata": {
    "collapsed": false
   },
   "outputs": [
    {
     "name": "stdout",
     "output_type": "stream",
     "text": [
      "RMSLE(baseline): 1.5629246036\n",
      "RMSLE: 1.39378752988\n",
      "R-square on dev: 0.280842519381\n"
     ]
    }
   ],
   "source": [
    "# Fit a simple regression model using all training data\n",
    "lr_model = LinearRegression()\n",
    "lr_model.fit(train_data, train_labels)\n",
    "preds = lr_model.predict(dev_data)\n",
    "\n",
    "# Compute baseline score (using the mean as the base model)\n",
    "base_preds = np.repeat(np.mean(train_labels), dev_labels.shape)\n",
    "print (\"RMSLE(baseline): {}\".format(RMSLE(dev_labels, base_preds)))\n",
    "\n",
    "# Now try linear regression model\n",
    "# Predictions cannot be negative, convert negative predictions to zero\n",
    "preds[preds<0] = 0\n",
    "print (\"RMSLE: {}\".format(RMSLE(dev_labels, preds)))\n",
    "\n",
    "# R2 for dev set\n",
    "print (\"R-square on dev: {}\".format(metrics.r2_score(dev_labels, preds)))"
   ]
  },
  {
   "cell_type": "code",
   "execution_count": 5,
   "metadata": {
    "collapsed": false
   },
   "outputs": [],
   "source": [
    "# Write results in Kaggle format\n",
    "# Predict with ALL training data (train set + dev set)\n",
    "lr_model = LinearRegression()\n",
    "lr_model.fit(X, Y)\n",
    "kaggle_preds = lr_model.predict(test_data)\n",
    "kaggle_preds[kaggle_preds<0] = 0\n",
    "\n",
    "# Write to csv\n",
    "out_path = '/Users/InfernoIX/datasets/bike/kaggle_submission.csv'\n",
    "df_submission = pd.DataFrame(df_test[\"datetime\"])\n",
    "df_submission[\"count\"] = kaggle_preds\n",
    "df_submission.to_csv(out_path, index=False)"
   ]
  }
 ],
 "metadata": {
  "kernelspec": {
   "display_name": "Python 2",
   "language": "python",
   "name": "python2"
  },
  "language_info": {
   "codemirror_mode": {
    "name": "ipython",
    "version": 2
   },
   "file_extension": ".py",
   "mimetype": "text/x-python",
   "name": "python",
   "nbconvert_exporter": "python",
   "pygments_lexer": "ipython2",
   "version": "2.7.10"
  }
 },
 "nbformat": 4,
 "nbformat_minor": 0
}
